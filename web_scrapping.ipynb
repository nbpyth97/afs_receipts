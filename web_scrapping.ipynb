{
 "cells": [
  {
   "cell_type": "code",
   "execution_count": 6,
   "id": "4c5ed0b5",
   "metadata": {},
   "outputs": [],
   "source": [
    "from bs4 import BeautifulSoup as bsoup\n",
    "import requests\n",
    "import time\n",
    "\n",
    "from selenium import webdriver\n",
    "from selenium.webdriver.support.ui import Select\n",
    "from selenium.webdriver.common.by import By\n",
    "from selenium.webdriver.support import expected_conditions as EC\n",
    "from selenium.webdriver.support.ui import WebDriverWait\n",
    "from selenium.webdriver.common.action_chains import ActionChains\n",
    "from selenium.common.exceptions import ElementNotVisibleException\n",
    "\n",
    "from urllib.request import urlopen\n",
    "import json\n",
    "import datetime\n",
    "import pandas as pd\n",
    "\n",
    "import pathlib\n",
    "import os"
   ]
  },
  {
   "cell_type": "markdown",
   "id": "5957d448",
   "metadata": {},
   "source": [
    "Gets the driver execution filename within directory"
   ]
  },
  {
   "cell_type": "code",
   "execution_count": 7,
   "id": "85c5e51d",
   "metadata": {},
   "outputs": [
    {
     "data": {
      "text/plain": [
       "'chromedriver.exe'"
      ]
     },
     "execution_count": 7,
     "metadata": {},
     "output_type": "execute_result"
    }
   ],
   "source": [
    "for filename in os.listdir(os.path.abspath(os.getcwd())):\n",
    "    if filename == 'chromedriver.exe':\n",
    "        driver_exe = filename\n",
    "driver_exe"
   ]
  },
  {
   "cell_type": "code",
   "execution_count": 8,
   "id": "d2316960",
   "metadata": {},
   "outputs": [
    {
     "data": {
      "text/plain": [
       "'C:\\\\Users\\\\gonçalo\\\\Desktop\\\\cursos\\\\testing\\\\games_info'"
      ]
     },
     "execution_count": 8,
     "metadata": {},
     "output_type": "execute_result"
    }
   ],
   "source": [
    "os.getcwd() + '\\\\{}'.format('games_info')"
   ]
  },
  {
   "cell_type": "code",
   "execution_count": 9,
   "id": "b508b471",
   "metadata": {
    "scrolled": false
   },
   "outputs": [
    {
     "name": "stdout",
     "output_type": "stream",
     "text": [
      "{'download.default_directory': 'C:\\\\Users\\\\gonçalo\\\\Desktop\\\\cursos\\\\testing\\\\games_info'}\n"
     ]
    },
    {
     "name": "stderr",
     "output_type": "stream",
     "text": [
      "<timed exec>:9: DeprecationWarning: executable_path has been deprecated, please pass in a Service object\n",
      "<timed exec>:9: DeprecationWarning: use options instead of chrome_options\n"
     ]
    },
    {
     "name": "stdout",
     "output_type": "stream",
     "text": [
      "********** Última Nomeação **********\n",
      "Responder: y ou n:\tn\n",
      "Dia em que o PDF foi colocado:\t27\n",
      "CPU times: total: 31.2 ms\n",
      "Wall time: 11 s\n"
     ]
    }
   ],
   "source": [
    "%%time\n",
    "\n",
    "chromeOptions = webdriver.ChromeOptions()\n",
    "\n",
    "#where to download:\n",
    "prefs = {\"download.default_directory\" :r\"{}\\games_info\".format(os.path.abspath(os.getcwd()))}\n",
    "print(prefs)\n",
    "chromeOptions.add_experimental_option(\"prefs\",prefs)\n",
    "chromedriver = \"path/to/chromedriver.exe\"\n",
    "#path of the webdriver executer:\n",
    "driver = webdriver.Chrome(executable_path=r'{fname}\\\\{driver_exe}'.format(fname=os.path.abspath(os.getcwd()),driver_exe=driver_exe), chrome_options=chromeOptions)\n",
    "\n",
    "\n",
    "driver.maximize_window()\n",
    "driver.implicitly_wait(5)\n",
    "driver.get('https://afsetubal.fpf.pt/Associa%C3%A7%C3%A3o/Documenta%C3%A7%C3%A3o/Nomea%C3%A7%C3%B5es-de-%C3%81rbitros')\n",
    "wait = WebDriverWait(driver,10)\n",
    "\n",
    "#driver = webdriver.Chrome(executable_path=r'{fname}\\\\{driver_exe}'.format(fname=os.path.abspath(os.getcwd()),driver_exe=driver_exe))\n",
    "\n",
    "print('*'*10,'Última Nomeação',\"*\"*10)\n",
    "decision = input('Responder: y ou n:\\t')\n",
    "n=0\n",
    "\n",
    "try:\n",
    "    \n",
    "    button = driver.find_element(By.XPATH, \"/html/body/form/div[3]/div[3]/div[2]/div/div[2]/div/div/div/div/div[2]/div[3]/div[1]/div/div[2]\")\n",
    "    button.click()\n",
    "\n",
    "    time.sleep(2)\n",
    "\n",
    "    #Displays invisible elements:\n",
    "    container = driver.find_element(By.XPATH,\"/html/body/form/div[3]/div[3]/div[2]/div/div[2]/div/div/div/div/div[2]/div[3]/div[1]/div/div[2]/select\")\n",
    "    driver.execute_script(\"arguments[0].style.display = 'block';\", container)\n",
    "\n",
    "    #Select element:\n",
    "    select = Select(driver.find_element(By.XPATH,\"/html/body/form/div[3]/div[3]/div[2]/div/div[2]/div/div/div/div/div[2]/div[3]/div[1]/div/div[2]/select\"))\n",
    "    select.select_by_visible_text('Todas as épocas')\n",
    "\n",
    "    #Click ok to select \"Todas as Épocas\"\n",
    "    button_2= driver.find_element(By.ID, \"btnSearch\")\n",
    "    button_2.click()\n",
    "    \n",
    "    #Day of the Nomeação:\n",
    "\n",
    "    if decision == 'y':\n",
    "        nomeacao_date = driver.find_element(By.XPATH,'/html/body/form/div[3]/div[3]/div[2]/div/div[2]/div/div/div/div/div[2]/div[3]/div[2]/div[1]/div/a')\n",
    "        nomeacao_date.click()\n",
    "    if decision == 'n':\n",
    "        \n",
    "        day = str(input(\"Dia em que o PDF foi colocado:\\t\"))\n",
    "        if len(day) == 1:\n",
    "            day = '0'+ day\n",
    "            \n",
    "        #driver find documents\n",
    "        att = driver.find_element(By.XPATH,\"//div[@class='list-content list-documents clearFloats']\")\n",
    "\n",
    "        tab_att=att.get_attribute('innerHTML')\n",
    "        tab_att=tab_att.split()\n",
    "\n",
    "        for i in tab_att:\n",
    "            day = str(day)\n",
    "            if 'date' in i:\n",
    "                i = i.split('>')\n",
    "                i = i[1]\n",
    "                n+=1\n",
    "                if i == day:\n",
    "                    xpath = \"/html/body/form/div[3]/div[3]/div[2]/div/div[2]/div/div/div/div/div[2]/div[3]/div[2]/div[{index}]/div/a\".format(index=n)\n",
    "                    nomeacao_date = driver.find_element(By.XPATH,xpath)\n",
    "                    nomeacao_date.click()\n",
    "                    break\n",
    "    \n",
    "except Exception as e:\n",
    "    print(e)"
   ]
  },
  {
   "cell_type": "code",
   "execution_count": 5,
   "id": "d1915f31",
   "metadata": {},
   "outputs": [
    {
     "name": "stderr",
     "output_type": "stream",
     "text": [
      "C:\\Users\\gonçalo\\AppData\\Local\\Temp\\ipykernel_18140\\532845299.py:5: DeprecationWarning: executable_path has been deprecated, please pass in a Service object\n",
      "  driver = webdriver.Chrome(executable_path=r'{fname}\\\\{driver_exe}'.format(fname=os.path.abspath(os.getcwd()),driver_exe=driver_exe), chrome_options=chromeOptions)\n",
      "C:\\Users\\gonçalo\\AppData\\Local\\Temp\\ipykernel_18140\\532845299.py:5: DeprecationWarning: use options instead of chrome_options\n",
      "  driver = webdriver.Chrome(executable_path=r'{fname}\\\\{driver_exe}'.format(fname=os.path.abspath(os.getcwd()),driver_exe=driver_exe), chrome_options=chromeOptions)\n"
     ]
    }
   ],
   "source": [
    "chromeOptions = webdriver.ChromeOptions()\n",
    "prefs = {\"download.default_directory\" :r\"C:\\Users\\goncalo\\Desktop\\testing\"}\n",
    "chromeOptions.add_experimental_option(\"prefs\",prefs)\n",
    "chromedriver = \"path/to/chromedriver.exe\"\n",
    "driver = webdriver.Chrome(executable_path=r'{fname}\\\\{driver_exe}'.format(fname=os.path.abspath(os.getcwd()),driver_exe=driver_exe), chrome_options=chromeOptions)\n",
    "\n",
    "\n",
    "driver.maximize_window()\n",
    "driver.implicitly_wait(5)\n",
    "driver.get('https://afsetubal.fpf.pt/Associa%C3%A7%C3%A3o/Documenta%C3%A7%C3%A3o/Nomea%C3%A7%C3%B5es-de-%C3%81rbitros')\n",
    "wait = WebDriverWait(driver,10)"
   ]
  },
  {
   "cell_type": "code",
   "execution_count": null,
   "id": "5904e6b4",
   "metadata": {},
   "outputs": [],
   "source": [
    "att = driver.find_element(By.XPATH,\"//div[@class='list-content list-documents clearFloats']\")\n",
    "\n",
    "tab_att=att.get_attribute('innerHTML')\n",
    "tab_att=tab_att.split()\n",
    "date_list=[]\n",
    "\n",
    "x = datetime.datetime.now()\n",
    "\n",
    "today_day = int(x.strftime(\"%y\"))\n",
    "n=1\n",
    "\n",
    "day = str(input(\"Dia em que o PDF foi colocado:\\t\"))\n",
    "day = '0'+ day\n",
    "\n",
    "#driver find documents\n",
    "att = driver.find_element(By.XPATH,\"//div[@class='list-content list-documents clearFloats']\")\n",
    "\n",
    "tab_att=att.get_attribute('innerHTML')\n",
    "tab_att=tab_att.split()\n",
    "\n",
    "'''\n",
    "def allfridays(year):\n",
    "    return pd.date_range(start=str(year), end=str(year+1),\n",
    "                         freq='W-FRI')#.strftime('%m/%d/%Y').tolist()\n",
    "\n",
    "print(allfridays(2022)[:52])\n",
    "'''\n",
    "\n",
    "for i in tab_att:\n",
    "    day = str(day)\n",
    "    if 'date' in i:\n",
    "        print(i)\n",
    "        i = i.split('>')\n",
    "        i = i[1]\n",
    "        n+=1\n",
    "        print(n)\n",
    "        if i == day:\n",
    "            break"
   ]
  },
  {
   "cell_type": "code",
   "execution_count": null,
   "id": "e6e3097c",
   "metadata": {},
   "outputs": [],
   "source": [
    "'''\n",
    "    /html/body/form/div[3]/div[3]/div[2]/div/div[2]/div/div/div/div/div[2]/div[3]/div[2]/div[{}]/div/a\n",
    "    /html/body/form/div[3]/div[3]/div[2]/div/div[2]/div/div/div/div/div[2]/div[3]/div[2]/div[1]/div/a\n",
    "    /html/body/form/div[3]/div[3]/div[2]/div/div[2]/div/div/div/div/div[2]/div[3]/div[2]/div[2]/div/a\n",
    "    /html/body/form/div[3]/div[3]/div[2]/div/div[2]/div/div/div/div/div[2]/div[3]/div[2]/div[3]/div/a'''"
   ]
  },
  {
   "cell_type": "code",
   "execution_count": null,
   "id": "f8346e2d",
   "metadata": {},
   "outputs": [],
   "source": [
    "source = requests.get('https://afsetubal.fpf.pt/Associa%C3%A7%C3%A3o/Documenta%C3%A7%C3%A3o/Nomea%C3%A7%C3%B5es-de-%C3%81rbitros').text\n",
    "soup = bsoup(source, 'html.parser')"
   ]
  },
  {
   "cell_type": "code",
   "execution_count": null,
   "id": "598ad21c",
   "metadata": {
    "scrolled": false
   },
   "outputs": [],
   "source": [
    "x = datetime.datetime.now()\n",
    "\n",
    "today_day = int(x.strftime(\"%d\"))\n",
    "\n",
    "print(today_day)\n",
    "\n",
    "soup.find_all(\"div\")\n",
    "\n",
    "#(soup.find(\"ul\",{\"class\":\"Menu\"}).find_all(\"li\")[2].find(\"span\", {\"class\": \"value\"}))\n",
    "    "
   ]
  },
  {
   "cell_type": "code",
   "execution_count": null,
   "id": "e736b36b",
   "metadata": {},
   "outputs": [],
   "source": []
  }
 ],
 "metadata": {
  "kernelspec": {
   "display_name": "Python 3 (ipykernel)",
   "language": "python",
   "name": "python3"
  },
  "language_info": {
   "codemirror_mode": {
    "name": "ipython",
    "version": 3
   },
   "file_extension": ".py",
   "mimetype": "text/x-python",
   "name": "python",
   "nbconvert_exporter": "python",
   "pygments_lexer": "ipython3",
   "version": "3.9.12"
  }
 },
 "nbformat": 4,
 "nbformat_minor": 5
}
